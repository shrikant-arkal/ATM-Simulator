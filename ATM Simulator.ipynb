{
 "cells": [
  {
   "cell_type": "code",
   "execution_count": null,
   "id": "1d5c8e06-a78b-4828-9e25-04523eeea134",
   "metadata": {},
   "outputs": [],
   "source": [
    "def ATM ():\n",
    "    balance= 10000\n",
    "    correct_pin = 1212\n",
    "    print(\"***** WELL COME *****\")\n",
    "    pin=int(input(\"Enter Pin\"))\n",
    "    if pin!= correct_pin:\n",
    "        print(\"Incorect Pin \\n Thank You\")\n",
    "        return\n",
    "    while True:\n",
    "        print('''Select Transaction:\n",
    "              1) Balance\n",
    "              2) Withdraw\n",
    "              3) Deposit\n",
    "              4) Exit''')\n",
    "        choose=int(input(\"Select The Above Transaction\"))\n",
    "        if choose==1:\n",
    "            print(f\"Available A/C Aalance is Rs: {balance}\")\n",
    "        elif choose==2:\n",
    "            withdraw=int(input(\"Enter The Withdraw Ammount : Rs \"))\n",
    "            if withdraw<=balance:\n",
    "                balance -= withdraw\n",
    "                print(f\"Available Balance is Rs : {balance}\")\n",
    "            else:\n",
    "                print(\"Insufficiant Balance\")\n",
    "        elif choose==3:\n",
    "            ammount= int(input(\"Ammount Deposit : Rs \"))\n",
    "            balance+=ammount\n",
    "            print(f\"New Balance is : {balance}\")\n",
    "        elif choose==4:\n",
    "            print(\"Thank You\")\n",
    "            break\n",
    "        else:\n",
    "            print('You Have No Selected Transaction')\n",
    "            \n",
    "    return\n",
    "            \n",
    "\n",
    "ATM()\n",
    "        "
   ]
  },
  {
   "cell_type": "code",
   "execution_count": null,
   "id": "8b94d1b4-0a55-4892-aff6-798cf109f5da",
   "metadata": {},
   "outputs": [],
   "source": []
  }
 ],
 "metadata": {
  "kernelspec": {
   "display_name": "Python 3 (ipykernel)",
   "language": "python",
   "name": "python3"
  },
  "language_info": {
   "codemirror_mode": {
    "name": "ipython",
    "version": 3
   },
   "file_extension": ".py",
   "mimetype": "text/x-python",
   "name": "python",
   "nbconvert_exporter": "python",
   "pygments_lexer": "ipython3",
   "version": "3.11.7"
  }
 },
 "nbformat": 4,
 "nbformat_minor": 5
}
